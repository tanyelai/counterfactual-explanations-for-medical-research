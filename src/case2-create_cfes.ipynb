{
 "cells": [
  {
   "cell_type": "code",
   "execution_count": null,
   "metadata": {},
   "outputs": [],
   "source": [
    "# import DiCE\n",
    "import dice_ml\n",
    "from dice_ml import Dice\n",
    "from dice_ml.utils import helpers  # helper functions\n",
    "import pandas as pd\n",
    "\n",
    "from sklearn.compose import ColumnTransformer\n",
    "from sklearn.model_selection import train_test_split\n",
    "from sklearn.pipeline import Pipeline\n",
    "from sklearn.preprocessing import StandardScaler, MinMaxScaler\n",
    "from sklearn.ensemble import RandomForestClassifier\n",
    "from xgboost import XGBClassifier\n",
    "from sklearn.ensemble import AdaBoostClassifier\n",
    "from catboost import CatBoostClassifier\n",
    "from sklearn.ensemble import VotingClassifier\n",
    "from sklearn.linear_model import LogisticRegression"
   ]
  },
  {
   "cell_type": "code",
   "execution_count": null,
   "metadata": {},
   "outputs": [],
   "source": [
    "root_dir = \"/your/path\"\n",
    "\n",
    "#entire_parameters = pd.read_excel(f\"{root_dir}/data/MB-EP-PA-BG-mpMRI_basic.xlsx\")\n",
    "dataset = pd.read_excel(f\"{root_dir}/data/file.xlsx\")\n",
    "\n",
    "#dataset = entire_parameters.drop([\"T2_Parenchyma\", \"FLAIR_Parenchyma\",\"T1_Parenchyma\", \"T1CE_Parenchyma\", \"DWI_Parenchyma\", \"ADC_Parenchyma\"], axis=1)\n",
    "dataset[\"TUMOR_TYPE\"] = dataset[\"TUMOR_TYPE\"].apply(lambda x: 0 if x == \"MEDULLOBLASTOMA\" else x)\n",
    "dataset[\"TUMOR_TYPE\"] = dataset[\"TUMOR_TYPE\"].apply(lambda x: 1 if x == \"EPENDYMOMA\" else x)\n",
    "dataset[\"TUMOR_TYPE\"] = dataset[\"TUMOR_TYPE\"].apply(lambda x: 2 if x == \"PILOCYTIC ASTROCYTOMA\" else x)\n",
    "dataset[\"TUMOR_TYPE\"] = dataset[\"TUMOR_TYPE\"].apply(lambda x: 3 if x == \"GLIOMA\" else x)"
   ]
  },
  {
   "cell_type": "code",
   "execution_count": null,
   "metadata": {},
   "outputs": [],
   "source": [
    "filtered_mb = dataset[dataset[\"TUMOR_TYPE\"] == 0].head(25)\n",
    "filtered_ep = dataset[dataset[\"TUMOR_TYPE\"] == 1]\n",
    "filtered_pa = dataset[dataset[\"TUMOR_TYPE\"] == 2].head(25)\n",
    "filtered_bg = dataset[dataset[\"TUMOR_TYPE\"] == 3].head(25)\n",
    "\n",
    "filtered_dataset = pd.concat([filtered_mb, filtered_ep, filtered_pa, filtered_bg])"
   ]
  },
  {
   "cell_type": "code",
   "execution_count": null,
   "metadata": {},
   "outputs": [],
   "source": [
    "filtered_dataset[\"TUMOR_TYPE\"].value_counts()"
   ]
  },
  {
   "cell_type": "code",
   "execution_count": null,
   "metadata": {},
   "outputs": [],
   "source": [
    "selected_data = filtered_dataset\n",
    "target = filtered_dataset[\"TUMOR_TYPE\"]\n",
    "\n",
    "# Split data into train and test\n",
    "datasetX = filtered_dataset.drop(\"TUMOR_TYPE\", axis=1)\n",
    "# x_train, x_test, y_train, y_test = train_test_split(datasetX,\n",
    "#                                                     target,\n",
    "#                                                     test_size=0.25,\n",
    "#                                                     random_state=42,\n",
    "#                                                     stratify=target)\n",
    "\n",
    "x_train, y_train = datasetX, target\n",
    "\n",
    "\n",
    "# Append classifier to preprocessing pipeline.\n",
    "# Now we have a full prediction pipeline.\n",
    "clf = Pipeline(steps=[('preprocessor', StandardScaler()),\n",
    "                      ('classifier', LogisticRegression(random_state=42))])\n",
    "model = clf.fit(x_train, y_train)"
   ]
  },
  {
   "cell_type": "code",
   "execution_count": null,
   "metadata": {},
   "outputs": [],
   "source": [
    "print(y_train.value_counts())"
   ]
  },
  {
   "cell_type": "code",
   "execution_count": null,
   "metadata": {},
   "outputs": [],
   "source": [
    "column_list = selected_data.columns[1:]\n",
    "\n",
    "d = dice_ml.Data(dataframe=selected_data, continuous_features= list(column_list), outcome_name='TUMOR_TYPE')\n",
    "m = dice_ml.Model(model=model, backend=\"sklearn\")"
   ]
  },
  {
   "cell_type": "code",
   "execution_count": null,
   "metadata": {},
   "outputs": [],
   "source": [
    "MB = 0; EP = 1; PA = 2; BG = 3"
   ]
  },
  {
   "cell_type": "code",
   "execution_count": null,
   "metadata": {},
   "outputs": [],
   "source": [
    "MB_query_indices = datasetX[target == MB].index\n",
    "EP_query_indices = datasetX[target == EP].index\n",
    "PA_query_indices = datasetX[target == PA].index\n",
    "BG_query_indices = datasetX[target == BG].index"
   ]
  },
  {
   "cell_type": "code",
   "execution_count": null,
   "metadata": {},
   "outputs": [],
   "source": [
    "MB_queries = dataset.iloc[MB_query_indices, 1:]\n",
    "EP_queries = dataset.iloc[EP_query_indices, 1:]\n",
    "PA_queries = dataset.iloc[PA_query_indices, 1:]\n",
    "BG_queries = dataset.iloc[BG_query_indices, 1:]"
   ]
  },
  {
   "cell_type": "code",
   "execution_count": null,
   "metadata": {},
   "outputs": [],
   "source": [
    "exp = Dice(d, m, method=\"random\")\n",
    "tumors = [0, 1, 2, 3]\n",
    "tumor_query_list = [MB_queries, EP_queries, PA_queries, BG_queries]\n",
    "\n",
    "for tumor_queries in tumor_query_list:\n",
    "    for idx, row in tumor_queries.iterrows():\n",
    "        query = pd.DataFrame(columns=row.index, data=[row.values], index=[idx])\n",
    "        for tumor in tumors:\n",
    "            e1 = exp.generate_counterfactuals(query, total_CFs=5, desired_class=tumor, \n",
    "                                        features_to_vary=['T2_Tumor', 'T2_Ratio', 'FLAIR_Tumor', 'FLAIR_Ratio', 'DWI_Tumor',\n",
    "                                                        'DWI_Ratio', 'ADC_Tumor', 'ADC_Ratio', 'T1_Tumor', 'T1_Ratio',\n",
    "                                                        'T1CE_Tumor', 'T1CE_Ratio'], random_seed=42)\n",
    "            \n",
    "            e1.visualize_as_dataframe(show_only_changes=True)\n",
    "            \n",
    "            dataset[\"TUMOR_TYPE\"] = dataset[\"TUMOR_TYPE\"].apply(lambda x: \"MB\" if x == 0 else x)\n",
    "            dataset[\"TUMOR_TYPE\"] = dataset[\"TUMOR_TYPE\"].apply(lambda x: \"EP\" if x == 1 else x)\n",
    "            dataset[\"TUMOR_TYPE\"] = dataset[\"TUMOR_TYPE\"].apply(lambda x: \"PA\" if x == 2 else x)\n",
    "            dataset[\"TUMOR_TYPE\"] = dataset[\"TUMOR_TYPE\"].apply(lambda x: \"BG\" if x == 3 else x)\n",
    "            tumor_type_src = dataset[(dataset.index.values == dataset.index[query.index[0]])][\"TUMOR_TYPE\"]\n",
    "\n",
    "            if tumor == 0:\n",
    "                tumor = 'MB'\n",
    "            elif tumor == 1:\n",
    "                tumor = 'EP'\n",
    "            elif tumor == 2:\n",
    "                tumor = 'PA'\n",
    "            else:\n",
    "                tumor = 'BG'\n",
    "\n",
    "            json_str = e1.to_json()\n",
    "            jsonFile = open(f\"{root_dir}/data/explanations/patient_{query.index[0]}_{tumor_type_src.values[0]}_to_{tumor}.json\", \"w\")\n",
    "            jsonFile.write(json_str)\n",
    "            jsonFile.close()\n"
   ]
  },
  {
   "cell_type": "code",
   "execution_count": null,
   "metadata": {},
   "outputs": [],
   "source": []
  },
  {
   "cell_type": "code",
   "execution_count": null,
   "metadata": {},
   "outputs": [],
   "source": []
  },
  {
   "cell_type": "code",
   "execution_count": null,
   "metadata": {},
   "outputs": [],
   "source": [
    "with open(\"/Users/toygar/Desktop/CfEM/data/explanations/patient_0_MB_to_EP.json\", \"r\") as f:\n",
    "    cfe = e1.from_json(f.read())\n",
    "    print([o.visualize_as_dataframe(show_only_changes=True) for o in cfe.cf_examples_list])"
   ]
  }
 ],
 "metadata": {
  "kernelspec": {
   "display_name": "base",
   "language": "python",
   "name": "python3"
  },
  "language_info": {
   "codemirror_mode": {
    "name": "ipython",
    "version": 3
   },
   "file_extension": ".py",
   "mimetype": "text/x-python",
   "name": "python",
   "nbconvert_exporter": "python",
   "pygments_lexer": "ipython3",
   "version": "3.9.13"
  },
  "orig_nbformat": 4
 },
 "nbformat": 4,
 "nbformat_minor": 2
}
