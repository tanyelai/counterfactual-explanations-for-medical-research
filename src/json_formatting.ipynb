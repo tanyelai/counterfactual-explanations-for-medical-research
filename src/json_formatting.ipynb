{
 "cells": [
  {
   "cell_type": "code",
   "execution_count": 32,
   "metadata": {},
   "outputs": [],
   "source": [
    "import pandas as pd\n",
    "import json\n",
    "from pandas.io.json import json_normalize\n",
    "import os"
   ]
  },
  {
   "attachments": {},
   "cell_type": "markdown",
   "metadata": {},
   "source": [
    "_____"
   ]
  },
  {
   "cell_type": "code",
   "execution_count": 33,
   "metadata": {},
   "outputs": [],
   "source": [
    "def create_dir(root_dir, path, dest):\n",
    "    try:\n",
    "        os.mkdir(root_dir) \n",
    "    except OSError as error: \n",
    "        pass\n",
    "\n",
    "    try:\n",
    "        os.mkdir(path)\n",
    "    except OSError as error: \n",
    "        pass \n",
    "    \n",
    "    try:\n",
    "        os.mkdir(dest)\n",
    "    except OSError as error: \n",
    "        pass \n",
    "        "
   ]
  },
  {
   "cell_type": "code",
   "execution_count": 34,
   "metadata": {},
   "outputs": [],
   "source": [
    "root_dir = \"/your/path/counterfactuals\"\n",
    "directory = f'{root_dir}/explanations'\n",
    "\n",
    "original_class = [\"MB\", \"EP\", \"PA\", \"BG\"]\n",
    "desired_class = [\"MB\", \"EP\", \"PA\", \"BG\"]\n",
    "\n",
    "for original in original_class:\n",
    "    for desired in desired_class:\n",
    "\n",
    "        merged_data = pd.DataFrame()  # Initialize an empty DataFrame to merge the data\n",
    "        merged_original = pd.DataFrame()  # Initialize an empty DataFrame to merge the data\n",
    "        merged_cfes = pd.DataFrame()  # Initialize an empty DataFrame to merge the data\n",
    "\n",
    "        path = f'{root_dir}/formatted_cfe_from_json'\n",
    "        output_directory = f'{path}/{original}'\n",
    "        create_dir(root_dir, path, output_directory)\n",
    "        # Iterate over the files in the directory\n",
    "        for filename in os.listdir(directory):\n",
    "            if filename.endswith(f'{original}_to_{desired}.json'):  # Check if the file has a JSON extension and ends with 'to_MB.json'\n",
    "                filepath = os.path.join(directory, filename)\n",
    "                \n",
    "                # Read the JSON data from file\n",
    "                with open(filepath, 'r') as file:\n",
    "                    data = json.load(file)\n",
    "\n",
    "                # Get original data\n",
    "                original_df = pd.DataFrame(data['test_data'][0], columns=data['feature_names_including_target'])\n",
    "\n",
    "                # Get cfes\n",
    "                cfe_df = pd.DataFrame(data['cfs_list'][0], columns=data['feature_names_including_target'])\n",
    "\n",
    "                # Merge data into a single DataFrame\n",
    "                merged_data = pd.concat([merged_data, original_df, cfe_df], ignore_index=True)\n",
    "                merged_original = pd.concat([merged_original, original_df], ignore_index=True)\n",
    "                merged_cfes = pd.concat([merged_cfes, cfe_df], ignore_index=True)\n",
    "\n",
    "        # Save merged data as an Excel file\n",
    "        merged_data.to_excel(os.path.join(output_directory, f\"{original}_to_{desired}_merged_data.xlsx\"), index=False)\n",
    "        merged_original.to_excel(os.path.join(output_directory, f\"{original}_to_{desired}_merged_original.xlsx\"), index=False)\n",
    "        merged_cfes.to_excel(os.path.join(output_directory, f\"{original}_to_{desired}_merged_cfes.xlsx\"), index=False)"
   ]
  },
  {
   "cell_type": "code",
   "execution_count": null,
   "metadata": {},
   "outputs": [],
   "source": []
  }
 ],
 "metadata": {
  "kernelspec": {
   "display_name": "base",
   "language": "python",
   "name": "python3"
  },
  "language_info": {
   "codemirror_mode": {
    "name": "ipython",
    "version": 3
   },
   "file_extension": ".py",
   "mimetype": "text/x-python",
   "name": "python",
   "nbconvert_exporter": "python",
   "pygments_lexer": "ipython3",
   "version": "3.9.13"
  },
  "orig_nbformat": 4
 },
 "nbformat": 4,
 "nbformat_minor": 2
}
