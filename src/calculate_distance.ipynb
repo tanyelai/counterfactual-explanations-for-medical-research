{
 "cells": [
  {
   "cell_type": "code",
   "execution_count": null,
   "metadata": {},
   "outputs": [],
   "source": [
    "import pandas as pd\n",
    "import numpy as np\n",
    "from sklearn.preprocessing import StandardScaler\n",
    "\n",
    "root_dir = \"/your/path\""
   ]
  },
  {
   "cell_type": "code",
   "execution_count": null,
   "metadata": {},
   "outputs": [],
   "source": [
    "table1 = pd.read_excel(f\"{root_dir}/data/Table1_dist.xlsx\")\n",
    "table3 = pd.read_excel(f\"{root_dir}/data/Table3_dist.xlsx\")"
   ]
  },
  {
   "cell_type": "code",
   "execution_count": null,
   "metadata": {},
   "outputs": [],
   "source": [
    "df = table1\n",
    "\n",
    "# Fill missing values with baseline (0-index) values\n",
    "for col in df.columns:\n",
    "    baseline_value = df.at[0, col]\n",
    "    df[col] = df[col].replace('-', baseline_value)\n",
    "\n",
    "# Convert data to float\n",
    "df = df.astype(float)\n",
    "\n",
    "# Calculate the standard scale\n",
    "scaler = StandardScaler()\n",
    "df_scaled = scaler.fit_transform(df)\n",
    "\n",
    "# Convert scaled data back to a dataframe\n",
    "df_scaled = pd.DataFrame(df_scaled, columns=df.columns)\n",
    "\n",
    "df_scaled"
   ]
  },
  {
   "cell_type": "code",
   "execution_count": null,
   "metadata": {},
   "outputs": [],
   "source": [
    "df = df_scaled\n",
    "\n",
    "df = df.astype(float)\n",
    "# Replace values that are the same as the baseline value or within 0.001 of it with \"-\"\n",
    "tolerance = 0.001\n",
    "for col in df.columns:\n",
    "    for i in range(1, 5):\n",
    "        if abs(df.at[i, col] - df.at[0, col]) <= tolerance:\n",
    "            df.at[i, col] = '-'\n",
    "\n",
    "df"
   ]
  },
  {
   "cell_type": "code",
   "execution_count": null,
   "metadata": {},
   "outputs": [],
   "source": [
    "# Extract the baseline row\n",
    "baseline_row = df.iloc[0]\n",
    "\n",
    "# Create a list to store the distances\n",
    "distances = []\n",
    "\n",
    "# Iterate over each row (excluding the baseline row)\n",
    "for index, row in df.iloc[1:].iterrows():\n",
    "    # Initialize the distance as 0\n",
    "    dist = 0\n",
    "    \n",
    "    # Iterate over each column\n",
    "    for column in df.columns:\n",
    "        # Get the values from the current row and the baseline row\n",
    "        curr_value = row[column]\n",
    "        baseline_value = baseline_row[column]\n",
    "        \n",
    "        # If either value is '-', consider it as 0\n",
    "        if curr_value == '-' or baseline_value == '-':\n",
    "            curr_value = 0\n",
    "            baseline_value = 0\n",
    "        \n",
    "        # Calculate the squared difference and add it to the distance\n",
    "        diff = float(curr_value) - float(baseline_value)\n",
    "        dist += diff ** 2\n",
    "    \n",
    "    # Calculate the square root of the distance and store it in the list\n",
    "    dist = np.sqrt(dist)\n",
    "    distances.append(dist)\n",
    "\n",
    "# Add the distances as a new column in the dataset\n",
    "df['Distance'] = [0] + distances\n",
    "\n",
    "# Print the modified dataset\n",
    "df"
   ]
  },
  {
   "cell_type": "code",
   "execution_count": null,
   "metadata": {},
   "outputs": [],
   "source": [
    "df.to_excel(f\"{root_dir}/data/Table1_dist_scaled(EP).xlsx\", index=False)"
   ]
  },
  {
   "cell_type": "code",
   "execution_count": null,
   "metadata": {},
   "outputs": [],
   "source": [
    "df = table3[:5].copy()\n",
    "df"
   ]
  },
  {
   "cell_type": "code",
   "execution_count": null,
   "metadata": {},
   "outputs": [],
   "source": [
    "# Fill missing values with baseline (0-index) values\n",
    "for col in df.columns:\n",
    "    baseline_value = df.at[0, col]\n",
    "    df[col] = df[col].replace('-', baseline_value)\n",
    "\n",
    "# Convert data to float\n",
    "df = df.astype(float)\n",
    "\n",
    "# Calculate the standard scale\n",
    "scaler = StandardScaler()\n",
    "df_scaled = scaler.fit_transform(df)\n",
    "\n",
    "# Convert scaled data back to a dataframe\n",
    "df_scaled = pd.DataFrame(df_scaled, columns=df.columns)\n",
    "\n",
    "df_scaled"
   ]
  },
  {
   "cell_type": "code",
   "execution_count": null,
   "metadata": {},
   "outputs": [],
   "source": [
    "df = df_scaled\n",
    "\n",
    "df = df.astype(float)\n",
    "# Replace values that are the same as the baseline value or within 0.001 of it with \"-\"\n",
    "tolerance = 0.001\n",
    "for col in df.columns:\n",
    "    for i in range(1, 5):\n",
    "        if abs(df.at[i, col] - df.at[0, col]) <= tolerance:\n",
    "            df.at[i, col] = '-'\n",
    "\n",
    "df"
   ]
  },
  {
   "cell_type": "code",
   "execution_count": null,
   "metadata": {},
   "outputs": [],
   "source": [
    "# Extract the baseline row\n",
    "baseline_row = df.iloc[0]\n",
    "\n",
    "# Create a list to store the distances\n",
    "distances = []\n",
    "\n",
    "# Iterate over each row (excluding the baseline row)\n",
    "for index, row in df.iloc[1:].iterrows():\n",
    "    # Initialize the distance as 0\n",
    "    dist = 0\n",
    "    \n",
    "    # Iterate over each column\n",
    "    for column in df.columns:\n",
    "        # Get the values from the current row and the baseline row\n",
    "        curr_value = row[column]\n",
    "        baseline_value = baseline_row[column]\n",
    "        \n",
    "        # If either value is '-', consider it as 0\n",
    "        if curr_value == '-' or baseline_value == '-':\n",
    "            curr_value = 0\n",
    "            baseline_value = 0\n",
    "        \n",
    "        # Calculate the squared difference and add it to the distance\n",
    "        diff = float(curr_value) - float(baseline_value)\n",
    "        dist += diff ** 2\n",
    "    \n",
    "    # Calculate the square root of the distance and store it in the list\n",
    "    dist = np.sqrt(dist)\n",
    "    distances.append(dist)\n",
    "\n",
    "# Add the distances as a new column in the dataset\n",
    "df['Distance'] = [0] + distances\n",
    "\n",
    "# Print the modified dataset\n",
    "df"
   ]
  },
  {
   "cell_type": "code",
   "execution_count": null,
   "metadata": {},
   "outputs": [],
   "source": [
    "df.to_excel(f\"{root_dir}/data/Table3MB_dist_scaled.xlsx\", index=False)"
   ]
  },
  {
   "cell_type": "code",
   "execution_count": null,
   "metadata": {},
   "outputs": [],
   "source": [
    "# Load the dataset into a Pandas DataFrame\n",
    "df = table3[5:10].copy()\n",
    "\n",
    "# Fill missing values with baseline (0-index) values\n",
    "for col in df.columns:\n",
    "    baseline_value = df.at[5, col]\n",
    "    df[col] = df[col].replace('-', baseline_value)\n",
    "\n",
    "# Convert data to float\n",
    "df = df.astype(float)\n",
    "\n",
    "# Calculate the standard scale\n",
    "scaler = StandardScaler()\n",
    "df_scaled = scaler.fit_transform(df)\n",
    "\n",
    "# Convert scaled data back to a dataframe\n",
    "df_scaled = pd.DataFrame(df_scaled, columns=df.columns)\n",
    "\n",
    "df_scaled"
   ]
  },
  {
   "cell_type": "code",
   "execution_count": null,
   "metadata": {},
   "outputs": [],
   "source": [
    "df = df_scaled\n",
    "\n",
    "df = df.astype(float)\n",
    "# Replace values that are the same as the baseline value or within 0.001 of it with \"-\"\n",
    "tolerance = 0.001\n",
    "for col in df.columns:\n",
    "    for i in range(1, 5):\n",
    "        if abs(df.at[i, col] - df.at[0, col]) <= tolerance:\n",
    "            df.at[i, col] = '-'\n",
    "\n",
    "df"
   ]
  },
  {
   "cell_type": "code",
   "execution_count": null,
   "metadata": {},
   "outputs": [],
   "source": [
    "# Extract the baseline row\n",
    "baseline_row = df.iloc[0]\n",
    "\n",
    "# Create a list to store the distances\n",
    "distances = []\n",
    "\n",
    "# Iterate over each row (excluding the baseline row)\n",
    "for index, row in df.iloc[1:].iterrows():\n",
    "    # Initialize the distance as 0\n",
    "    dist = 0\n",
    "    \n",
    "    # Iterate over each column\n",
    "    for column in df.columns:\n",
    "        # Get the values from the current row and the baseline row\n",
    "        curr_value = row[column]\n",
    "        baseline_value = baseline_row[column]\n",
    "        \n",
    "        # If either value is '-', consider it as 0\n",
    "        if curr_value == '-' or baseline_value == '-':\n",
    "            curr_value = 0\n",
    "            baseline_value = 0\n",
    "        \n",
    "        # Calculate the squared difference and add it to the distance\n",
    "        diff = float(curr_value) - float(baseline_value)\n",
    "        dist += diff ** 2\n",
    "    \n",
    "    # Calculate the square root of the distance and store it in the list\n",
    "    dist = np.sqrt(dist)\n",
    "    distances.append(dist)\n",
    "\n",
    "# Add the distances as a new column in the dataset\n",
    "df['Distance'] = [0] + distances\n",
    "\n",
    "# Print the modified dataset\n",
    "df"
   ]
  },
  {
   "cell_type": "code",
   "execution_count": null,
   "metadata": {},
   "outputs": [],
   "source": [
    "df.to_excel(f\"{root_dir}/data/Table3PA_dist_scaled.xlsx\", index=False)"
   ]
  },
  {
   "cell_type": "code",
   "execution_count": null,
   "metadata": {},
   "outputs": [],
   "source": [
    "# Load the dataset into a Pandas DataFrame\n",
    "df = table3[10:15].copy()\n",
    "\n",
    "# Fill missing values with baseline (0-index) values\n",
    "for col in df.columns:\n",
    "    baseline_value = df.at[10, col]\n",
    "    df[col] = df[col].replace('-', baseline_value)\n",
    "\n",
    "# Convert data to float\n",
    "df = df.astype(float)\n",
    "\n",
    "# Calculate the standard scale\n",
    "scaler = StandardScaler()\n",
    "df_scaled = scaler.fit_transform(df)\n",
    "\n",
    "# Convert scaled data back to a dataframe\n",
    "df_scaled = pd.DataFrame(df_scaled, columns=df.columns)\n",
    "\n",
    "df_scaled"
   ]
  },
  {
   "cell_type": "code",
   "execution_count": null,
   "metadata": {},
   "outputs": [],
   "source": [
    "df = df_scaled\n",
    "\n",
    "df = df.astype(float)\n",
    "# Replace values that are the same as the baseline value or within 0.1 of it with \"-\"\n",
    "tolerance = 0.01\n",
    "for col in df.columns:\n",
    "    for i in range(1, 5):\n",
    "        if abs(df.at[i, col] - df.at[0, col]) <= tolerance:\n",
    "            df.at[i, col] = '-'\n",
    "\n",
    "df"
   ]
  },
  {
   "cell_type": "code",
   "execution_count": null,
   "metadata": {},
   "outputs": [],
   "source": [
    "# Extract the baseline row\n",
    "baseline_row = df.iloc[0]\n",
    "\n",
    "# Create a list to store the distances\n",
    "distances = []\n",
    "\n",
    "# Iterate over each row (excluding the baseline row)\n",
    "for index, row in df.iloc[1:].iterrows():\n",
    "    # Initialize the distance as 0\n",
    "    dist = 0\n",
    "    \n",
    "    # Iterate over each column\n",
    "    for column in df.columns:\n",
    "        # Get the values from the current row and the baseline row\n",
    "        curr_value = row[column]\n",
    "        baseline_value = baseline_row[column]\n",
    "        \n",
    "        # If either value is '-', consider it as 0\n",
    "        if curr_value == '-' or baseline_value == '-':\n",
    "            curr_value = 0\n",
    "            baseline_value = 0\n",
    "        \n",
    "        # Calculate the squared difference and add it to the distance\n",
    "        diff = float(curr_value) - float(baseline_value)\n",
    "        dist += diff ** 2\n",
    "    \n",
    "    # Calculate the square root of the distance and store it in the list\n",
    "    dist = np.sqrt(dist)\n",
    "    distances.append(dist)\n",
    "\n",
    "# Add the distances as a new column in the dataset\n",
    "df['Distance'] = [0] + distances\n",
    "\n",
    "# Print the modified dataset\n",
    "df"
   ]
  },
  {
   "cell_type": "code",
   "execution_count": null,
   "metadata": {},
   "outputs": [],
   "source": [
    "df.to_excel(f\"{root_dir}/data/Table3BG_dist_scaled.xlsx\", index=False)"
   ]
  }
 ],
 "metadata": {
  "kernelspec": {
   "display_name": "base",
   "language": "python",
   "name": "python3"
  },
  "language_info": {
   "codemirror_mode": {
    "name": "ipython",
    "version": 3
   },
   "file_extension": ".py",
   "mimetype": "text/x-python",
   "name": "python",
   "nbconvert_exporter": "python",
   "pygments_lexer": "ipython3",
   "version": "3.9.13"
  },
  "orig_nbformat": 4
 },
 "nbformat": 4,
 "nbformat_minor": 2
}
